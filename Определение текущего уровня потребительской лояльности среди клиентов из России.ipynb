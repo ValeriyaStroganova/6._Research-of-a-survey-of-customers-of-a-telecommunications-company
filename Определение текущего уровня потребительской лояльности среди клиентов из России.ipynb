{
 "cells": [
  {
   "cell_type": "markdown",
   "id": "8170a166",
   "metadata": {},
   "source": [
    "# Определение текущего уровня потребительской лояльности среди клиентов из России"
   ]
  },
  {
   "cell_type": "markdown",
   "id": "ea260213",
   "metadata": {},
   "source": [
    "## Описание проекта"
   ]
  },
  {
   "cell_type": "markdown",
   "id": "4c8e2a18",
   "metadata": {},
   "source": [
    "Заказчик этого исследования — большая телекоммуникационная компания, которая оказывает услуги на территории всего СНГ.<br>  \n",
    "Перед компанией стоит задача определить текущий уровень потребительской лояльности, или NPS (от англ. Net Promoter Score), среди клиентов из России.<br>   \n",
    "Чтобы определить уровень лояльности, клиентам задавали классический вопрос: «Оцените по шкале от 1 до 10 вероятность того, что вы порекомендуете компанию друзьям и знакомым».<br>  \n",
    "Компания провела опрос и попросила вас подготовить дашборд с его итогами. <br>  \n",
    "Большую базу данных для такой задачи разворачивать не стали и выгрузили данные в SQLite.<br>   \n",
    "Чтобы оценить результаты опроса, оценки обычно делят на три группы:<br>\n",
    "9-10 баллов — «cторонники» (англ. promoters);<br>\n",
    "7-8 баллов — «нейтралы» (англ. passives);<br>\n",
    "0-6 баллов — «критики» (англ. detractors).<br>  \n",
    "Итоговое значение NPS рассчитывается по формуле: % «сторонников» - % «критиков»."
   ]
  },
  {
   "cell_type": "markdown",
   "id": "32403b78",
   "metadata": {},
   "source": [
    "## Цель исследования"
   ]
  },
  {
   "cell_type": "markdown",
   "id": "928019d8",
   "metadata": {},
   "source": [
    "Получение ответов на вопросы:<br>  \n",
    "1. Как распределены участники опроса по возрасту, полу и возрасту? Каких пользователей больше: новых или старых? Пользователи из каких городов активнее участвовали в опросе?\n",
    "2. Какие группы пользователей наиболее лояльны к сервису? Какие менее?\n",
    "3. Какой общий NPS среди всех опрошенных?\n",
    "4. Как можно описать клиентов, которые относятся к группе cторонников (англ. promoters)?"
   ]
  },
  {
   "cell_type": "markdown",
   "id": "d74aac08",
   "metadata": {},
   "source": [
    "## Этапы исследования"
   ]
  },
  {
   "cell_type": "markdown",
   "id": "d3403af9",
   "metadata": {},
   "source": [
    "1. Выгрузка данных\n",
    "2. Создание дашборда в Tableau\n",
    "3. Подготовка презентации с ответами на вопросы"
   ]
  },
  {
   "cell_type": "markdown",
   "id": "8af875f3",
   "metadata": {},
   "source": [
    "### Выгрузка данных"
   ]
  },
  {
   "cell_type": "code",
   "execution_count": 1,
   "id": "fc7efa54",
   "metadata": {},
   "outputs": [],
   "source": [
    "import os\n",
    "import pandas as pd\n",
    "import numpy as np\n",
    "\n",
    "from sqlalchemy import create_engine"
   ]
  },
  {
   "cell_type": "raw",
   "id": "855fe5d9",
   "metadata": {},
   "source": [
    "path_to_db_local = 'telecomm_csi.db'\n",
    "path_to_db_platform = '/datasets/telecomm_csi.db'\n",
    "path_to_db = None\n",
    "\n",
    "if os.path.exists(path_to_db_local):\n",
    "    path_to_db = path_to_db_local\n",
    "elif os.path.exists(path_to_db_platform):\n",
    "    path_to_db = path_to_db_platform\n",
    "else:\n",
    "    raise Exception('Файл с базой данных SQLite не найден!')\n",
    "\n",
    "if path_to_db:\n",
    "    engine = create_engine(f'sqlite:///{path_to_db}', echo=False)"
   ]
  },
  {
   "cell_type": "code",
   "execution_count": 2,
   "id": "f5c5a34e",
   "metadata": {},
   "outputs": [],
   "source": [
    "path_to_db = '/datasets/telecomm_csi.db'\n",
    "engine = create_engine(f'sqlite:///{path_to_db}', echo = False)"
   ]
  },
  {
   "cell_type": "code",
   "execution_count": 3,
   "id": "84ebad43",
   "metadata": {},
   "outputs": [],
   "source": [
    "query = \"\"\"\n",
    "SELECT u.user_id,\n",
    "       u.lt_day,\n",
    "       CASE \n",
    "           WHEN u.lt_day <= 365 THEN 'Новый'\n",
    "           ELSE 'Старый'\n",
    "           END AS is_new,\n",
    "       u.age,\n",
    "       CASE \n",
    "           WHEN u.gender_segment == 1 THEN 'Женщина'\n",
    "           WHEN u.gender_segment == 0 THEN 'Мужчина'\n",
    "           ELSE 'x'\n",
    "           END AS gender_segment,\n",
    "       u.os_name,\n",
    "       u.cpe_type_name,\n",
    "       location.country,\n",
    "       location.city,\n",
    "       SUBSTR(age_segment.title, 4) AS age_segment,\n",
    "       SUBSTR(traffic_segment.title, 4) AS traffic_segment,\n",
    "       SUBSTR(lifetime_segment.title, 4) AS lifetime_segment,\n",
    "       u.nps_score,\n",
    "       CASE \n",
    "           WHEN u.nps_score >= 9 AND u.nps_score <= 10 THEN 'Cторонник'\n",
    "           WHEN u.nps_score >= 7 AND u.nps_score <= 8 THEN 'Нейтрал'\n",
    "           ELSE 'Критик'\n",
    "           END AS nps_group\n",
    "FROM user AS u\n",
    "JOIN location ON u.location_id = location.location_id\n",
    "JOIN age_segment ON u.age_gr_id = age_segment.age_gr_id\n",
    "JOIN traffic_segment ON u.tr_gr_id = traffic_segment.tr_gr_id\n",
    "JOIN lifetime_segment ON u.lt_gr_id = lifetime_segment.lt_gr_id;\n",
    "\"\"\""
   ]
  },
  {
   "cell_type": "code",
   "execution_count": 4,
   "id": "3965faf2",
   "metadata": {},
   "outputs": [
    {
     "data": {
      "text/html": [
       "<div>\n",
       "<style scoped>\n",
       "    .dataframe tbody tr th:only-of-type {\n",
       "        vertical-align: middle;\n",
       "    }\n",
       "\n",
       "    .dataframe tbody tr th {\n",
       "        vertical-align: top;\n",
       "    }\n",
       "\n",
       "    .dataframe thead th {\n",
       "        text-align: right;\n",
       "    }\n",
       "</style>\n",
       "<table border=\"1\" class=\"dataframe\">\n",
       "  <thead>\n",
       "    <tr style=\"text-align: right;\">\n",
       "      <th></th>\n",
       "      <th>user_id</th>\n",
       "      <th>lt_day</th>\n",
       "      <th>is_new</th>\n",
       "      <th>age</th>\n",
       "      <th>gender_segment</th>\n",
       "      <th>os_name</th>\n",
       "      <th>cpe_type_name</th>\n",
       "      <th>country</th>\n",
       "      <th>city</th>\n",
       "      <th>age_segment</th>\n",
       "      <th>traffic_segment</th>\n",
       "      <th>lifetime_segment</th>\n",
       "      <th>nps_score</th>\n",
       "      <th>nps_group</th>\n",
       "    </tr>\n",
       "  </thead>\n",
       "  <tbody>\n",
       "    <tr>\n",
       "      <th>0</th>\n",
       "      <td>A001A2</td>\n",
       "      <td>2320</td>\n",
       "      <td>Старый</td>\n",
       "      <td>45.0</td>\n",
       "      <td>Женщина</td>\n",
       "      <td>ANDROID</td>\n",
       "      <td>SMARTPHONE</td>\n",
       "      <td>Россия</td>\n",
       "      <td>Уфа</td>\n",
       "      <td>45-54</td>\n",
       "      <td>1-5</td>\n",
       "      <td>36+</td>\n",
       "      <td>10</td>\n",
       "      <td>Cторонник</td>\n",
       "    </tr>\n",
       "    <tr>\n",
       "      <th>1</th>\n",
       "      <td>A001WF</td>\n",
       "      <td>2344</td>\n",
       "      <td>Старый</td>\n",
       "      <td>53.0</td>\n",
       "      <td>Мужчина</td>\n",
       "      <td>ANDROID</td>\n",
       "      <td>SMARTPHONE</td>\n",
       "      <td>Россия</td>\n",
       "      <td>Киров</td>\n",
       "      <td>45-54</td>\n",
       "      <td>1-5</td>\n",
       "      <td>36+</td>\n",
       "      <td>10</td>\n",
       "      <td>Cторонник</td>\n",
       "    </tr>\n",
       "    <tr>\n",
       "      <th>2</th>\n",
       "      <td>A003Q7</td>\n",
       "      <td>467</td>\n",
       "      <td>Старый</td>\n",
       "      <td>57.0</td>\n",
       "      <td>Мужчина</td>\n",
       "      <td>ANDROID</td>\n",
       "      <td>SMARTPHONE</td>\n",
       "      <td>Россия</td>\n",
       "      <td>Москва</td>\n",
       "      <td>55-64</td>\n",
       "      <td>20-25</td>\n",
       "      <td>13-24</td>\n",
       "      <td>10</td>\n",
       "      <td>Cторонник</td>\n",
       "    </tr>\n",
       "  </tbody>\n",
       "</table>\n",
       "</div>"
      ],
      "text/plain": [
       "  user_id  lt_day  is_new   age gender_segment  os_name cpe_type_name country  \\\n",
       "0  A001A2    2320  Старый  45.0        Женщина  ANDROID    SMARTPHONE  Россия   \n",
       "1  A001WF    2344  Старый  53.0        Мужчина  ANDROID    SMARTPHONE  Россия   \n",
       "2  A003Q7     467  Старый  57.0        Мужчина  ANDROID    SMARTPHONE  Россия   \n",
       "\n",
       "     city age_segment traffic_segment lifetime_segment  nps_score  nps_group  \n",
       "0     Уфа       45-54             1-5              36+         10  Cторонник  \n",
       "1   Киров       45-54             1-5              36+         10  Cторонник  \n",
       "2  Москва       55-64           20-25            13-24         10  Cторонник  "
      ]
     },
     "execution_count": 4,
     "metadata": {},
     "output_type": "execute_result"
    }
   ],
   "source": [
    "df = pd.read_sql(query, engine)\n",
    "df.head(3)"
   ]
  },
  {
   "cell_type": "code",
   "execution_count": 5,
   "id": "9db04858",
   "metadata": {},
   "outputs": [],
   "source": [
    "df.to_csv('telecomm_csi_tableau.csv', index=False)"
   ]
  },
  {
   "cell_type": "markdown",
   "id": "e5e029a0",
   "metadata": {},
   "source": [
    "**Описание таблицы** <br>"
   ]
  },
  {
   "cell_type": "markdown",
   "id": "89177100",
   "metadata": {},
   "source": [
    "* user_id\t- Идентификатор клиента\n",
    "* lt_day\t- Количество дней «жизни» клиента\n",
    "* is_new\t- Поле хранит информацию о том, является ли клиент новым\n",
    "* age\t- Возраст\n",
    "* gender_segment\t- Пол\n",
    "* os_name\t- Тип операционной системы\n",
    "* cpe_type_name\t- Тип устройства\n",
    "* country\t- Страна проживания\n",
    "* city\t- Город проживания\n",
    "* age_segment\t- Возрастной сегмент\n",
    "* traffic_segment\t- Сегмент по объёму потребляемого трафика\n",
    "* lifetime_segment\t- Сегмент по количеству дней «жизни»\n",
    "* nps_score\t- Оценка клиента в NPS-опросе\n",
    "* nps_group\t- Поле хранит информацию о том, к какой группе относится оценка клиента в опросе"
   ]
  },
  {
   "cell_type": "markdown",
   "id": "df526e0d",
   "metadata": {},
   "source": [
    "### Создание дашборда в Tableau"
   ]
  },
  {
   "cell_type": "markdown",
   "id": "a4377863",
   "metadata": {},
   "source": [
    "Дашборд:<br>\n",
    "    \n",
    "https://public.tableau.com/app/profile/valeriya.stroganova/viz/NPS_16835661621280/NPS_2?publish=yes"
   ]
  },
  {
   "cell_type": "markdown",
   "id": "39a3b056",
   "metadata": {},
   "source": [
    "### Презентация с ответами на вопросы"
   ]
  },
  {
   "cell_type": "markdown",
   "id": "0512cb5d",
   "metadata": {},
   "source": [
    "<div class=\"alert alert-info\" style=\"border:solid blue 2px; padding: 20px\"> \n",
    "Презентация:<br>\n",
    "    \n",
    "https://disk.yandex.ru/i/6IyvEbfJrN_vFw"
   ]
  },
  {
   "cell_type": "code",
   "execution_count": null,
   "id": "0639c5ad",
   "metadata": {},
   "outputs": [],
   "source": []
  }
 ],
 "metadata": {
  "ExecuteTimeLog": [
   {
    "duration": 460,
    "start_time": "2023-05-03T15:50:08.401Z"
   },
   {
    "duration": 16,
    "start_time": "2023-05-03T15:50:09.898Z"
   },
   {
    "duration": 4,
    "start_time": "2023-05-03T15:50:11.476Z"
   },
   {
    "duration": 5498,
    "start_time": "2023-05-03T15:50:12.437Z"
   },
   {
    "duration": 4234,
    "start_time": "2023-05-03T15:50:17.937Z"
   },
   {
    "duration": 593,
    "start_time": "2023-05-05T15:22:58.718Z"
   },
   {
    "duration": 47,
    "start_time": "2023-05-05T15:22:59.313Z"
   },
   {
    "duration": 4,
    "start_time": "2023-05-05T15:22:59.361Z"
   },
   {
    "duration": 5524,
    "start_time": "2023-05-05T15:22:59.366Z"
   },
   {
    "duration": 4140,
    "start_time": "2023-05-05T15:23:04.891Z"
   },
   {
    "duration": 568,
    "start_time": "2023-05-05T15:23:22.168Z"
   },
   {
    "duration": 68,
    "start_time": "2023-05-05T15:24:04.240Z"
   },
   {
    "duration": 8,
    "start_time": "2023-05-05T15:24:17.817Z"
   },
   {
    "duration": 2,
    "start_time": "2023-05-05T15:24:42.215Z"
   },
   {
    "duration": 7,
    "start_time": "2023-05-05T15:24:59.075Z"
   },
   {
    "duration": 7,
    "start_time": "2023-05-05T15:25:26.017Z"
   },
   {
    "duration": 8,
    "start_time": "2023-05-05T15:25:32.048Z"
   },
   {
    "duration": 7,
    "start_time": "2023-05-05T15:25:46.136Z"
   },
   {
    "duration": 1573,
    "start_time": "2023-05-05T15:26:18.568Z"
   },
   {
    "duration": 320,
    "start_time": "2023-05-05T15:26:42.005Z"
   },
   {
    "duration": 521,
    "start_time": "2023-05-08T17:17:03.343Z"
   },
   {
    "duration": 19,
    "start_time": "2023-05-08T17:17:03.866Z"
   },
   {
    "duration": 4,
    "start_time": "2023-05-08T17:17:03.886Z"
   },
   {
    "duration": 5232,
    "start_time": "2023-05-08T17:17:03.892Z"
   },
   {
    "duration": 4648,
    "start_time": "2023-05-08T17:17:09.125Z"
   },
   {
    "duration": 484,
    "start_time": "2023-05-08T17:17:13.777Z"
   },
   {
    "duration": 543,
    "start_time": "2023-05-09T04:26:45.302Z"
   },
   {
    "duration": 37,
    "start_time": "2023-05-09T04:26:45.846Z"
   },
   {
    "duration": 3,
    "start_time": "2023-05-09T04:26:45.884Z"
   },
   {
    "duration": 6143,
    "start_time": "2023-05-09T04:26:45.890Z"
   },
   {
    "duration": 5268,
    "start_time": "2023-05-09T04:26:52.035Z"
   },
   {
    "duration": 773,
    "start_time": "2023-05-09T05:04:02.300Z"
   },
   {
    "duration": 20,
    "start_time": "2023-05-09T05:04:03.075Z"
   },
   {
    "duration": 4,
    "start_time": "2023-05-09T05:04:03.096Z"
   },
   {
    "duration": 7129,
    "start_time": "2023-05-09T05:04:03.102Z"
   },
   {
    "duration": 4918,
    "start_time": "2023-05-09T05:04:10.234Z"
   },
   {
    "duration": 571,
    "start_time": "2023-05-10T05:17:22.947Z"
   },
   {
    "duration": 13,
    "start_time": "2023-05-10T05:17:23.520Z"
   },
   {
    "duration": 24,
    "start_time": "2023-05-10T05:17:23.538Z"
   },
   {
    "duration": 6961,
    "start_time": "2023-05-10T05:17:23.564Z"
   },
   {
    "duration": 4944,
    "start_time": "2023-05-10T05:17:30.527Z"
   }
  ],
  "kernelspec": {
   "display_name": "Python 3 (ipykernel)",
   "language": "python",
   "name": "python3"
  },
  "language_info": {
   "codemirror_mode": {
    "name": "ipython",
    "version": 3
   },
   "file_extension": ".py",
   "mimetype": "text/x-python",
   "name": "python",
   "nbconvert_exporter": "python",
   "pygments_lexer": "ipython3",
   "version": "3.9.5"
  },
  "toc": {
   "base_numbering": 1,
   "nav_menu": {
    "height": "279.983px",
    "width": "217.5px"
   },
   "number_sections": true,
   "sideBar": true,
   "skip_h1_title": true,
   "title_cell": "Table of Contents",
   "title_sidebar": "Contents",
   "toc_cell": false,
   "toc_position": {
    "height": "calc(100% - 180px)",
    "left": "10px",
    "top": "150px",
    "width": "400.885px"
   },
   "toc_section_display": true,
   "toc_window_display": true
  }
 },
 "nbformat": 4,
 "nbformat_minor": 5
}
